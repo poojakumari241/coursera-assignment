{
 "cells": [
  {
   "cell_type": "markdown",
   "id": "f143cd8d",
   "metadata": {},
   "source": [
    "# My Jupyter Notebook on IBM Watson Studio"
   ]
  },
  {
   "cell_type": "markdown",
   "id": "c41e8157",
   "metadata": {},
   "source": [
    "**Pooja Kumari**\n",
    "\n",
    "Data Analyst"
   ]
  },
  {
   "cell_type": "markdown",
   "id": "f0a4ec32",
   "metadata": {},
   "source": [
    "*I am interested in data science because we can find patterns. Understanding patterns means understanding the world,humble data can take a business to the sky by using data science*"
   ]
  },
  {
   "cell_type": "markdown",
   "id": "38c075eb",
   "metadata": {},
   "source": [
    "### Code will give the sum of two number"
   ]
  },
  {
   "cell_type": "code",
   "execution_count": 2,
   "id": "61526aa8",
   "metadata": {},
   "outputs": [
    {
     "name": "stdout",
     "output_type": "stream",
     "text": [
      "30\n"
     ]
    }
   ],
   "source": [
    "A = 10\n",
    "B = 20\n",
    "print (A+B)"
   ]
  },
  {
   "attachments": {},
   "cell_type": "markdown",
   "id": "a0a3ae6c",
   "metadata": {},
   "source": [
    "***\n",
    "1. Hello, I am Pooja Kumari\n",
    "2. I Like to sing\n",
    "***\n",
    "\n",
    "_______________________\n",
    "Roll Number |Name | Branch | \n",
    "--- | --- | ---\n",
    "*1* | `Pooja` | *CSE*\n",
    "*2* | `Priya` | *EEE*\n",
    "*3* | `Prisha` | *ECE*\n",
    "_____________________________\n",
    "\n",
    "\n",
    "  - **My Gmail**: poojamehta241@gmail.com\n",
    "  \n",
    "  _____________________________________________________________________________\n",
    "  - **Favourite Dessert** :![alt text](![image.png](attachment:image.png)"
   ]
  },
  {
   "cell_type": "code",
   "execution_count": null,
   "id": "1fce6701",
   "metadata": {},
   "outputs": [],
   "source": []
  },
  {
   "cell_type": "code",
   "execution_count": null,
   "id": "f2bf6a61",
   "metadata": {},
   "outputs": [],
   "source": []
  }
 ],
 "metadata": {
  "kernelspec": {
   "display_name": "Python 3 (ipykernel)",
   "language": "python",
   "name": "python3"
  },
  "language_info": {
   "codemirror_mode": {
    "name": "ipython",
    "version": 3
   },
   "file_extension": ".py",
   "mimetype": "text/x-python",
   "name": "python",
   "nbconvert_exporter": "python",
   "pygments_lexer": "ipython3",
   "version": "3.10.1"
  }
 },
 "nbformat": 4,
 "nbformat_minor": 5
}
